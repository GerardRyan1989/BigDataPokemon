{
 "cells": [
  {
   "cell_type": "markdown",
   "metadata": {
    "scrolled": true
   },
   "source": [
    "<h1>Big Data Pokemon</h1>\n",
    "<p>\n",
    "    This jupyter notebook takes a dataset of pokemon images.\n",
    "    it then sorts out  the images into the pokemns primary type using a csv file for refernece of the pokemon name and type.\n",
    "    once the images are sorted by the pokemons type they are thne fed into a customized VGG16 model for training.\n",
    "</p>"
   ]
  },
  {
   "cell_type": "code",
   "execution_count": 1,
   "metadata": {},
   "outputs": [
    {
     "name": "stderr",
     "output_type": "stream",
     "text": [
      "Using TensorFlow backend.\n"
     ]
    },
    {
     "name": "stdout",
     "output_type": "stream",
     "text": [
      "Imports Successful.\n"
     ]
    }
   ],
   "source": [
    "import glob\n",
    "import os\n",
    "import sys\n",
    "import h5py\n",
    "from PIL import Image, ImageFile\n",
    "import pathlib\n",
    "import csv\n",
    "import cv2\n",
    "from keras.applications import VGG16\n",
    "from keras.callbacks import ModelCheckpoint\n",
    "from keras.layers import Flatten, Dense, Dropout\n",
    "from keras_preprocessing.image import ImageDataGenerator, img_to_array\n",
    "from pathlib import Path\n",
    "from keras.preprocessing import image\n",
    "import matplotlib.pyplot as plt\n",
    "from keras.utils import np_utils\n",
    "from keras import optimizers\n",
    "import pandas as pd\n",
    "from sklearn.datasets import load_files\n",
    "import numpy as np\n",
    "from keras.models import Model\n",
    "import keras\n",
    "import tensorflow as tf\n",
    "from keras import models\n",
    "from sklearn.model_selection import StratifiedKFold\n",
    "import matplotlib.pyplot as plt\n",
    "\n",
    "print('Imports Successful.')"
   ]
  },
  {
   "cell_type": "code",
   "execution_count": 43,
   "metadata": {},
   "outputs": [],
   "source": [
    "df = pd.read_csv('Pokemon.csv')\n",
    "#extracting name and type from csv file\n",
    "df1 = df[['Name','Type 1']]\n",
    "\n",
    "\n",
    "for filename in glob.iglob('pokemonImages/*/*.jpg', recursive=True):\n",
    "    if os.path.isfile(filename):  # filter dirs\n",
    "        PokemonName = filename\n",
    "        PokemonName = PokemonName.lstrip(PokemonName[:14])\n",
    "        \n",
    "        PokemonName = PokemonName.split('\\\\')[0]\n",
    "        namelist = df['Name'].tolist()\n",
    "        typeList = df['Type 1'].tolist()\n",
    "        for name in namelist:\n",
    "            if PokemonName == name:\n",
    "                nameIndex = namelist.index(name)\n",
    "                name = typeList[nameIndex]\n",
    "                pathlib.Path('pokemonTypes/' + name).mkdir(parents=True, exist_ok=True)\n",
    "                savePath = 'PokemonTypes/' + name + '/' + name.replace(\" \", \"\") \n",
    "                     \n",
    "        im = Image.open(filename)\n",
    "        if im.mode in (\"RGBA\", \"P\"):\n",
    "            im = im.convert(\"RGB\")\n",
    "        try:\n",
    "            im.save(savePath, \"JPEG\", quality=80, optimize=True, progressive=True)\n",
    "        except IOError:\n",
    "            ImageFile.MAXBLOCK = im.size[0] * im.size[1]\n",
    "            im.save(savePath, \"JPEG\", quality=80, optimize=True, progressive=True)"
   ]
  },
  {
   "cell_type": "markdown",
   "metadata": {},
   "source": [
    "# Spliting the original pokemon dataset that is  sorted by pokemon names into a datset where they are seperated by their types"
   ]
  },
  {
   "cell_type": "code",
   "execution_count": 2,
   "metadata": {},
   "outputs": [
    {
     "name": "stdout",
     "output_type": "stream",
     "text": [
      "pokemon Images 10120\n"
     ]
    }
   ],
   "source": [
    "print('pokemon Images', len(glob.glob('pokemonImages/*/*.jpg', recursive=True)))"
   ]
  },
  {
   "cell_type": "code",
   "execution_count": 3,
   "metadata": {},
   "outputs": [
    {
     "name": "stdout",
     "output_type": "stream",
     "text": [
      "pokemon Types 9777\n"
     ]
    }
   ],
   "source": [
    "print('pokemon Types', len(glob.glob('pokemonTypes/*/*.jpg', recursive=True)))"
   ]
  },
  {
   "cell_type": "code",
   "execution_count": 77,
   "metadata": {},
   "outputs": [
    {
     "name": "stdout",
     "output_type": "stream",
     "text": [
      "number of images for each pokemon type\n",
      "Bug:  716\n",
      "Dragon:  234\n",
      "Electric:  643\n",
      "Fairy:  108\n",
      "Fighgting:  441\n",
      "Fire:  915\n",
      "Ghost:  173\n",
      "Grass:  781\n",
      "Ground:  508\n",
      "Ice:  114\n",
      "Normal:  1428\n",
      "Poisom:  746\n",
      "Psychic:  414\n",
      "Rock:  570\n",
      "Water:  1986\n"
     ]
    }
   ],
   "source": [
    "print('number of images for each pokemon type')\n",
    "print('Bug: ', len(glob.glob('pokemonTypes/Bug/*.jpg', recursive=True)))\n",
    "print('Dragon: ',len(glob.glob('pokemonTypes/Dragon/*.jpg', recursive=True)))\n",
    "print('Electric: ',len(glob.glob('pokemonTypes/Electric/*.jpg', recursive=True)))\n",
    "print('Fairy: ', len(glob.glob('pokemonTypes/Fairy/*.jpg', recursive=True)))\n",
    "print('Fighgting: ', len(glob.glob('pokemonTypes/Fighting/*.jpg', recursive=True)))\n",
    "print('Fire: ',len(glob.glob('pokemonTypes/Fire/*.jpg', recursive=True)))\n",
    "print('Ghost: ',len(glob.glob('pokemonTypes/Ghost/*.jpg', recursive=True)))\n",
    "print('Grass: ', len(glob.glob('pokemonTypes/Grass/*.jpg', recursive=True)))\n",
    "print('Ground: ', len(glob.glob('pokemonTypes/Ground/*.jpg', recursive=True)))\n",
    "print('Ice: ', len(glob.glob('pokemonTypes/Ice/*.jpg', recursive=True)))\n",
    "print('Normal: ', len(glob.glob('pokemonTypes/Normal/*.jpg', recursive=True)))\n",
    "print('Poisom: ', len(glob.glob('pokemonTypes/Poison/*.jpg', recursive=True)))\n",
    "print('Psychic: ', len(glob.glob('pokemonTypes/Psychic/*.jpg', recursive=True)))\n",
    "print('Rock: ' ,len(glob.glob('pokemonTypes/Rock/*.jpg', recursive=True)))\n",
    "print('Water: ' , len(glob.glob('pokemonTypes/Water/*.jpg', recursive=True)))\n"
   ]
  },
  {
   "cell_type": "code",
   "execution_count": 6,
   "metadata": {
    "scrolled": true
   },
   "outputs": [
    {
     "name": "stdout",
     "output_type": "stream",
     "text": [
      "methods loaded successfully\n"
     ]
    }
   ],
   "source": [
    "def load_dataset(path):\n",
    "    data = load_files(path, categories=None)\n",
    "    files = np.array(data['filenames'])\n",
    "    labels = np.array(data['target'])\n",
    "    # np.utils.to_categorical is used to convert array of labeled data(from 0 to nb_classes-1) to one-hot vector.\n",
    "    one_hot_targets = np_utils.to_categorical(labels)\n",
    "    return files, labels, one_hot_targets\n",
    "\n",
    "\n",
    "\n",
    "def resize_and_crop(path):\n",
    "    desired_size = 100\n",
    "    im = cv2.imread(path)\n",
    " \n",
    "    \n",
    "    old_size = im.shape[:2]  # old_size is in (height, width) format\n",
    "    ratio = float(desired_size) / max(old_size)\n",
    "    new_size = tuple([int(x * ratio) for x in old_size])\n",
    "\n",
    "    # new_size should be in (width, height) format\n",
    "    im = cv2.resize(im, (new_size[1], new_size[0]))\n",
    "    delta_w = desired_size - new_size[1]\n",
    "    delta_h = desired_size - new_size[0]\n",
    "    top, bottom = delta_h // 2, delta_h - (delta_h // 2)\n",
    "    left, right = delta_w // 2, delta_w - (delta_w // 2)\n",
    "    # padding\n",
    "    # color = [0, 0, 0]\n",
    "    new_im = cv2.copyMakeBorder(im, top, bottom, left, right, cv2.BORDER_CONSTANT)\n",
    "    return new_im\n",
    "\n",
    "\n",
    "def normalize_image_inputs(image):\n",
    "    norm_image = cv2.normalize(image, None, alpha=0, beta=1, norm_type=cv2.NORM_MINMAX, dtype=cv2.CV_32F)\n",
    "    return norm_image\n",
    "\n",
    "\n",
    "# get a list of images from a list of paths\n",
    "def pathlist2imagelist(pathlist):\n",
    "    imagelist = []\n",
    "    for path in pathlist:\n",
    "        # print(\"path =\", path)\n",
    "        # img = crop(path)\n",
    "        img = resize_and_crop(path)\n",
    "        img_norm = normalize_image_inputs(img)\n",
    "\n",
    "        # preprocess image list to fit keras expected input format -  4D array (4D tensor) [nb_samples,rows,columns,channels]\n",
    "        # convert the image pixels to a numpy array\n",
    "        img_norm = img_to_array(img_norm)\n",
    "        # prepare the image for the VGG model\n",
    "        img_exp = np.expand_dims(img_norm, axis=0)\n",
    "\n",
    "        imagelist.append(img_exp)\n",
    "        # if img_norm[0].shape is not 100 or img_norm[1].shape is not 100 or img_norm[2].shape is not 3:\n",
    "        # print(\"image shape: \",img_norm.shape, path)\n",
    "    # print(\"IMagelist shape\", imagelist[0].shape, imagelist[1].shape,imagelist[2].shape)\n",
    "    imglist = np.vstack(imagelist)\n",
    "    return imglist\n",
    "\n",
    "\n",
    "print('methods loaded successfully')"
   ]
  },
  {
   "cell_type": "code",
   "execution_count": 7,
   "metadata": {},
   "outputs": [
    {
     "name": "stdout",
     "output_type": "stream",
     "text": [
      "loading the datset...\n",
      "\n",
      "dataset loaded.\n"
     ]
    }
   ],
   "source": [
    "print('loading the datset...')\n",
    "\n",
    "pokemon_files, pokemon_labels, pokemon_targets = load_dataset('pokemonTypes')\n",
    "\n",
    "print('\\ndataset loaded.')"
   ]
  },
  {
   "cell_type": "code",
   "execution_count": 8,
   "metadata": {},
   "outputs": [
    {
     "name": "stdout",
     "output_type": "stream",
     "text": [
      "done\n"
     ]
    }
   ],
   "source": [
    "config = tf.ConfigProto()\n",
    "config.gpu_options.allow_growth = True\n",
    "sess = tf.Session(config=config)\n",
    "\n",
    "print('done')"
   ]
  },
  {
   "cell_type": "code",
   "execution_count": 9,
   "metadata": {},
   "outputs": [
    {
     "name": "stdout",
     "output_type": "stream",
     "text": [
      "1.13.1\n"
     ]
    }
   ],
   "source": [
    "print(tf.__version__)"
   ]
  },
  {
   "cell_type": "code",
   "execution_count": 10,
   "metadata": {},
   "outputs": [
    {
     "name": "stdout",
     "output_type": "stream",
     "text": [
      "WARNING:tensorflow:From C:\\Users\\Shadow\\Anaconda3\\envs\\pokemontensorflow\\lib\\site-packages\\tensorflow\\python\\framework\\op_def_library.py:263: colocate_with (from tensorflow.python.framework.ops) is deprecated and will be removed in a future version.\n",
      "Instructions for updating:\n",
      "Colocations handled automatically by placer.\n",
      "WARNING:tensorflow:From C:\\Users\\Shadow\\Anaconda3\\envs\\pokemontensorflow\\lib\\site-packages\\keras\\backend\\tensorflow_backend.py:3445: calling dropout (from tensorflow.python.ops.nn_ops) with keep_prob is deprecated and will be removed in a future version.\n",
      "Instructions for updating:\n",
      "Please use `rate` instead of `keep_prob`. Rate should be set to `rate = 1 - keep_prob`.\n",
      "Training on fold 1/10.............................................\n",
      "\n",
      "\n",
      "Compiling Model.\n",
      "\n",
      "\n",
      "setting  up checkpoints.\n",
      "\n",
      "\n",
      "Loading Images.\n",
      "WARNING:tensorflow:From C:\\Users\\Shadow\\Anaconda3\\envs\\pokemontensorflow\\lib\\site-packages\\tensorflow\\python\\ops\\math_ops.py:3066: to_int32 (from tensorflow.python.ops.math_ops) is deprecated and will be removed in a future version.\n",
      "Instructions for updating:\n",
      "Use tf.cast instead.\n",
      "Epoch 1/6\n",
      "450/450 [==============================] - 27s 61ms/step - loss: 0.2152 - acc: 0.9349 - val_loss: 0.1391 - val_acc: 0.9513\n",
      "\n",
      "Epoch 00001: val_acc improved from -inf to 0.95127, saving model to pokemonWeights.hdf5\n",
      "Epoch 2/6\n",
      "450/450 [==============================] - 24s 53ms/step - loss: 0.2064 - acc: 0.9351 - val_loss: 0.1220 - val_acc: 0.9553\n",
      "\n",
      "Epoch 00002: val_acc improved from 0.95127 to 0.95533, saving model to pokemonWeights.hdf5\n",
      "Epoch 3/6\n",
      "450/450 [==============================] - 24s 53ms/step - loss: 0.2079 - acc: 0.9354 - val_loss: 0.1274 - val_acc: 0.9503\n",
      "\n",
      "Epoch 00003: val_acc did not improve from 0.95533\n",
      "Epoch 4/6\n",
      "450/450 [==============================] - 24s 53ms/step - loss: 0.2133 - acc: 0.9329 - val_loss: 0.1483 - val_acc: 0.9482\n",
      "\n",
      "Epoch 00004: val_acc did not improve from 0.95533\n",
      "Epoch 5/6\n",
      "450/450 [==============================] - 24s 52ms/step - loss: 0.2026 - acc: 0.9365 - val_loss: 0.1508 - val_acc: 0.9431\n",
      "\n",
      "Epoch 00005: val_acc did not improve from 0.95533\n",
      "Epoch 6/6\n",
      "450/450 [==============================] - 24s 53ms/step - loss: 0.2018 - acc: 0.9353 - val_loss: 0.1386 - val_acc: 0.9492\n",
      "\n",
      "Epoch 00006: val_acc did not improve from 0.95533\n",
      "\n",
      "\n",
      "Evaluationg model\n",
      "985/985 [==============================] - 2s 2ms/step\n",
      "Average accuracy of model on the dev set =  0.9492385791037894\n",
      "Training on fold 2/10.............................................\n",
      "\n",
      "\n",
      "Compiling Model.\n",
      "\n",
      "\n",
      "setting  up checkpoints.\n",
      "\n",
      "\n",
      "Loading Images.\n",
      "Epoch 1/6\n",
      "450/450 [==============================] - 26s 57ms/step - loss: 0.2184 - acc: 0.9339 - val_loss: 0.1336 - val_acc: 0.9583\n",
      "\n",
      "Epoch 00001: val_acc improved from -inf to 0.95829, saving model to pokemonWeights.hdf5\n",
      "Epoch 2/6\n",
      "450/450 [==============================] - 24s 53ms/step - loss: 0.2139 - acc: 0.9357 - val_loss: 0.1265 - val_acc: 0.9603\n",
      "\n",
      "Epoch 00002: val_acc improved from 0.95829 to 0.96033, saving model to pokemonWeights.hdf5\n",
      "Epoch 3/6\n",
      "450/450 [==============================] - 24s 52ms/step - loss: 0.2171 - acc: 0.9298 - val_loss: 0.1504 - val_acc: 0.9522\n",
      "\n",
      "Epoch 00003: val_acc did not improve from 0.96033\n",
      "Epoch 4/6\n",
      "450/450 [==============================] - 23s 52ms/step - loss: 0.2039 - acc: 0.9362 - val_loss: 0.1321 - val_acc: 0.9603\n",
      "\n",
      "Epoch 00004: val_acc did not improve from 0.96033\n",
      "Epoch 5/6\n",
      "450/450 [==============================] - 23s 52ms/step - loss: 0.2300 - acc: 0.9317 - val_loss: 0.1505 - val_acc: 0.9542\n",
      "\n",
      "Epoch 00005: val_acc did not improve from 0.96033\n",
      "Epoch 6/6\n",
      "450/450 [==============================] - 23s 52ms/step - loss: 0.2059 - acc: 0.9342 - val_loss: 0.1313 - val_acc: 0.9563\n",
      "\n",
      "Epoch 00006: val_acc did not improve from 0.96033\n",
      "\n",
      "\n",
      "Evaluationg model\n",
      "983/983 [==============================] - 1s 1ms/step\n",
      "Average accuracy of model on the dev set =  0.9527474688381801\n",
      "Training on fold 3/10.............................................\n",
      "\n",
      "\n",
      "Compiling Model.\n",
      "\n",
      "\n",
      "setting  up checkpoints.\n",
      "\n",
      "\n",
      "Loading Images.\n",
      "Epoch 1/6\n",
      "450/450 [==============================] - 26s 57ms/step - loss: 0.1952 - acc: 0.9399 - val_loss: 0.1034 - val_acc: 0.9654\n",
      "\n",
      "Epoch 00001: val_acc improved from -inf to 0.96541, saving model to pokemonWeights.hdf5\n",
      "Epoch 2/6\n",
      "450/450 [==============================] - 24s 54ms/step - loss: 0.2016 - acc: 0.9366 - val_loss: 0.1291 - val_acc: 0.9583\n",
      "\n",
      "Epoch 00002: val_acc did not improve from 0.96541\n",
      "Epoch 3/6\n",
      "450/450 [==============================] - 24s 54ms/step - loss: 0.2008 - acc: 0.9368 - val_loss: 0.1394 - val_acc: 0.9583\n",
      "\n",
      "Epoch 00003: val_acc did not improve from 0.96541\n",
      "Epoch 4/6\n",
      "450/450 [==============================] - 24s 54ms/step - loss: 0.2053 - acc: 0.9383 - val_loss: 0.1328 - val_acc: 0.9583\n",
      "\n",
      "Epoch 00004: val_acc did not improve from 0.96541\n",
      "Epoch 5/6\n",
      "450/450 [==============================] - 24s 53ms/step - loss: 0.2208 - acc: 0.9336 - val_loss: 0.1276 - val_acc: 0.9583\n",
      "\n",
      "Epoch 00005: val_acc did not improve from 0.96541\n",
      "Epoch 6/6\n",
      "450/450 [==============================] - 24s 54ms/step - loss: 0.1998 - acc: 0.9381 - val_loss: 0.1342 - val_acc: 0.9593\n",
      "\n",
      "Epoch 00006: val_acc did not improve from 0.96541\n",
      "\n",
      "\n",
      "Evaluationg model\n",
      "983/983 [==============================] - 1s 1ms/step\n",
      "Average accuracy of model on the dev set =  0.9549343926061263\n",
      "Training on fold 4/10.............................................\n",
      "\n",
      "\n",
      "Compiling Model.\n",
      "\n",
      "\n",
      "setting  up checkpoints.\n",
      "\n",
      "\n",
      "Loading Images.\n",
      "Epoch 1/6\n",
      "450/450 [==============================] - 26s 58ms/step - loss: 0.2126 - acc: 0.9322 - val_loss: 0.1107 - val_acc: 0.9643\n",
      "\n",
      "Epoch 00001: val_acc improved from -inf to 0.96432, saving model to pokemonWeights.hdf5\n",
      "Epoch 2/6\n",
      "450/450 [==============================] - 24s 53ms/step - loss: 0.2099 - acc: 0.9344 - val_loss: 0.1026 - val_acc: 0.9643\n",
      "\n",
      "Epoch 00002: val_acc did not improve from 0.96432\n",
      "Epoch 3/6\n",
      "450/450 [==============================] - 24s 54ms/step - loss: 0.1943 - acc: 0.9381 - val_loss: 0.1133 - val_acc: 0.9633\n",
      "\n",
      "Epoch 00003: val_acc did not improve from 0.96432\n",
      "Epoch 4/6\n",
      "450/450 [==============================] - 24s 54ms/step - loss: 0.2160 - acc: 0.9321 - val_loss: 0.1048 - val_acc: 0.9664\n",
      "\n",
      "Epoch 00004: val_acc improved from 0.96432 to 0.96636, saving model to pokemonWeights.hdf5\n",
      "Epoch 5/6\n",
      "450/450 [==============================] - 24s 54ms/step - loss: 0.2156 - acc: 0.9352 - val_loss: 0.1094 - val_acc: 0.9653\n",
      "\n",
      "Epoch 00005: val_acc did not improve from 0.96636\n",
      "Epoch 6/6\n",
      "450/450 [==============================] - 24s 54ms/step - loss: 0.1912 - acc: 0.9388 - val_loss: 0.1077 - val_acc: 0.9633\n",
      "\n",
      "Epoch 00006: val_acc did not improve from 0.96636\n",
      "\n",
      "\n",
      "Evaluationg model\n",
      "981/981 [==============================] - 1s 1ms/step\n",
      "Average accuracy of model on the dev set =  0.9570264826191278\n",
      "Training on fold 5/10.............................................\n",
      "\n",
      "\n",
      "Compiling Model.\n",
      "\n",
      "\n",
      "setting  up checkpoints.\n",
      "\n",
      "\n",
      "Loading Images.\n",
      "Epoch 1/6\n",
      "450/450 [==============================] - 26s 58ms/step - loss: 0.1949 - acc: 0.9367 - val_loss: 0.1032 - val_acc: 0.9683\n",
      "\n",
      "Epoch 00001: val_acc improved from -inf to 0.96830, saving model to pokemonWeights.hdf5\n",
      "Epoch 2/6\n",
      "450/450 [==============================] - 24s 53ms/step - loss: 0.2029 - acc: 0.9344 - val_loss: 0.1767 - val_acc: 0.9601\n",
      "\n",
      "Epoch 00002: val_acc did not improve from 0.96830\n",
      "Epoch 3/6\n",
      "450/450 [==============================] - 24s 53ms/step - loss: 0.1920 - acc: 0.9411 - val_loss: 0.1098 - val_acc: 0.9601\n",
      "\n",
      "Epoch 00003: val_acc did not improve from 0.96830\n",
      "Epoch 4/6\n",
      "450/450 [==============================] - 24s 54ms/step - loss: 0.2142 - acc: 0.9346 - val_loss: 0.1139 - val_acc: 0.9611\n",
      "\n",
      "Epoch 00004: val_acc did not improve from 0.96830\n",
      "Epoch 5/6\n",
      "450/450 [==============================] - 24s 54ms/step - loss: 0.2152 - acc: 0.9343 - val_loss: 0.1139 - val_acc: 0.9611\n",
      "\n",
      "Epoch 00005: val_acc did not improve from 0.96830\n",
      "Epoch 6/6\n",
      "450/450 [==============================] - 24s 54ms/step - loss: 0.1967 - acc: 0.9393 - val_loss: 0.1439 - val_acc: 0.9581\n",
      "\n",
      "Epoch 00006: val_acc did not improve from 0.96830\n",
      "\n",
      "\n",
      "Evaluationg model\n",
      "978/978 [==============================] - 1s 1ms/step\n",
      "Average accuracy of model on the dev set =  0.9572367280663491\n",
      "Training on fold 6/10.............................................\n",
      "\n",
      "\n",
      "Compiling Model.\n",
      "\n",
      "\n",
      "setting  up checkpoints.\n",
      "\n",
      "\n",
      "Loading Images.\n"
     ]
    },
    {
     "name": "stdout",
     "output_type": "stream",
     "text": [
      "Epoch 1/6\n",
      "450/450 [==============================] - 26s 58ms/step - loss: 0.2034 - acc: 0.9358 - val_loss: 0.1671 - val_acc: 0.9529\n",
      "\n",
      "Epoch 00001: val_acc improved from -inf to 0.95292, saving model to pokemonWeights.hdf5\n",
      "Epoch 2/6\n",
      "450/450 [==============================] - 24s 54ms/step - loss: 0.2047 - acc: 0.9340 - val_loss: 0.1276 - val_acc: 0.9632\n",
      "\n",
      "Epoch 00002: val_acc improved from 0.95292 to 0.96315, saving model to pokemonWeights.hdf5\n",
      "Epoch 3/6\n",
      "450/450 [==============================] - 24s 54ms/step - loss: 0.2078 - acc: 0.9392 - val_loss: 0.1363 - val_acc: 0.9601\n",
      "\n",
      "Epoch 00003: val_acc did not improve from 0.96315\n",
      "Epoch 4/6\n",
      "450/450 [==============================] - 24s 54ms/step - loss: 0.1975 - acc: 0.9364 - val_loss: 0.1148 - val_acc: 0.9642\n",
      "\n",
      "Epoch 00004: val_acc improved from 0.96315 to 0.96418, saving model to pokemonWeights.hdf5\n",
      "Epoch 5/6\n",
      "450/450 [==============================] - 24s 54ms/step - loss: 0.1944 - acc: 0.9371 - val_loss: 0.1356 - val_acc: 0.9580\n",
      "\n",
      "Epoch 00005: val_acc did not improve from 0.96418\n",
      "Epoch 6/6\n",
      "450/450 [==============================] - 24s 54ms/step - loss: 0.2006 - acc: 0.9364 - val_loss: 0.1399 - val_acc: 0.9591\n",
      "\n",
      "Epoch 00006: val_acc did not improve from 0.96418\n",
      "\n",
      "\n",
      "Evaluationg model\n",
      "977/977 [==============================] - 1s 1ms/step\n",
      "Average accuracy of model on the dev set =  0.957540330406437\n",
      "Training on fold 7/10.............................................\n",
      "\n",
      "\n",
      "Compiling Model.\n",
      "\n",
      "\n",
      "setting  up checkpoints.\n",
      "\n",
      "\n",
      "Loading Images.\n",
      "Epoch 1/6\n",
      "450/450 [==============================] - 26s 57ms/step - loss: 0.1959 - acc: 0.9361 - val_loss: 0.1076 - val_acc: 0.9671\n",
      "\n",
      "Epoch 00001: val_acc improved from -inf to 0.96715, saving model to pokemonWeights.hdf5\n",
      "Epoch 2/6\n",
      "450/450 [==============================] - 24s 53ms/step - loss: 0.2160 - acc: 0.9337 - val_loss: 0.1504 - val_acc: 0.9528\n",
      "\n",
      "Epoch 00002: val_acc did not improve from 0.96715\n",
      "Epoch 3/6\n",
      "450/450 [==============================] - 24s 53ms/step - loss: 0.1999 - acc: 0.9393 - val_loss: 0.1391 - val_acc: 0.9579\n",
      "\n",
      "Epoch 00003: val_acc did not improve from 0.96715\n",
      "Epoch 4/6\n",
      "450/450 [==============================] - 24s 52ms/step - loss: 0.1855 - acc: 0.9432 - val_loss: 0.1527 - val_acc: 0.9600\n",
      "\n",
      "Epoch 00004: val_acc did not improve from 0.96715\n",
      "Epoch 5/6\n",
      "450/450 [==============================] - 24s 53ms/step - loss: 0.2028 - acc: 0.9393 - val_loss: 0.1048 - val_acc: 0.9671\n",
      "\n",
      "Epoch 00005: val_acc did not improve from 0.96715\n",
      "Epoch 6/6\n",
      "450/450 [==============================] - 24s 53ms/step - loss: 0.1883 - acc: 0.9417 - val_loss: 0.1040 - val_acc: 0.9682\n",
      "\n",
      "Epoch 00006: val_acc improved from 0.96715 to 0.96817, saving model to pokemonWeights.hdf5\n",
      "\n",
      "\n",
      "Evaluationg model\n",
      "974/974 [==============================] - 1s 1ms/step\n",
      "Average accuracy of model on the dev set =  0.9590592095943719\n",
      "Training on fold 8/10.............................................\n",
      "\n",
      "\n",
      "Compiling Model.\n",
      "\n",
      "\n",
      "setting  up checkpoints.\n",
      "\n",
      "\n",
      "Loading Images.\n",
      "Epoch 1/6\n",
      "450/450 [==============================] - 26s 58ms/step - loss: 0.1951 - acc: 0.9399 - val_loss: 0.1138 - val_acc: 0.9651\n",
      "\n",
      "Epoch 00001: val_acc improved from -inf to 0.96509, saving model to pokemonWeights.hdf5\n",
      "Epoch 2/6\n",
      "450/450 [==============================] - 24s 53ms/step - loss: 0.1952 - acc: 0.9387 - val_loss: 0.1299 - val_acc: 0.9507\n",
      "\n",
      "Epoch 00002: val_acc did not improve from 0.96509\n",
      "Epoch 3/6\n",
      "450/450 [==============================] - 24s 53ms/step - loss: 0.1926 - acc: 0.9418 - val_loss: 0.1267 - val_acc: 0.9569\n",
      "\n",
      "Epoch 00003: val_acc did not improve from 0.96509\n",
      "Epoch 4/6\n",
      "450/450 [==============================] - 24s 53ms/step - loss: 0.1927 - acc: 0.9415 - val_loss: 0.1081 - val_acc: 0.9651\n",
      "\n",
      "Epoch 00004: val_acc improved from 0.96509 to 0.96509, saving model to pokemonWeights.hdf5\n",
      "Epoch 5/6\n",
      "450/450 [==============================] - 24s 54ms/step - loss: 0.1775 - acc: 0.9446 - val_loss: 0.1059 - val_acc: 0.9671\n",
      "\n",
      "Epoch 00005: val_acc improved from 0.96509 to 0.96715, saving model to pokemonWeights.hdf5\n",
      "Epoch 6/6\n",
      "450/450 [==============================] - 24s 54ms/step - loss: 0.1981 - acc: 0.9404 - val_loss: 0.2190 - val_acc: 0.9446\n",
      "\n",
      "Epoch 00006: val_acc did not improve from 0.96715\n",
      "\n",
      "\n",
      "Evaluationg model\n",
      "974/974 [==============================] - 1s 1ms/step\n",
      "Average accuracy of model on the dev set =  0.9572466235977968\n",
      "Training on fold 9/10.............................................\n",
      "\n",
      "\n",
      "Compiling Model.\n",
      "\n",
      "\n",
      "setting  up checkpoints.\n",
      "\n",
      "\n",
      "Loading Images.\n",
      "Epoch 1/6\n",
      "450/450 [==============================] - 26s 57ms/step - loss: 0.1887 - acc: 0.9411 - val_loss: 0.1201 - val_acc: 0.9619\n",
      "\n",
      "Epoch 00001: val_acc improved from -inf to 0.96189, saving model to pokemonWeights.hdf5\n",
      "Epoch 2/6\n",
      "450/450 [==============================] - 24s 53ms/step - loss: 0.1690 - acc: 0.9479 - val_loss: 0.1080 - val_acc: 0.9660\n",
      "\n",
      "Epoch 00002: val_acc improved from 0.96189 to 0.96601, saving model to pokemonWeights.hdf5\n",
      "Epoch 3/6\n",
      "450/450 [==============================] - 24s 53ms/step - loss: 0.1884 - acc: 0.9414 - val_loss: 0.1093 - val_acc: 0.9650\n",
      "\n",
      "Epoch 00003: val_acc did not improve from 0.96601\n",
      "Epoch 4/6\n",
      "450/450 [==============================] - 24s 53ms/step - loss: 0.1770 - acc: 0.9415 - val_loss: 0.1056 - val_acc: 0.9629\n",
      "\n",
      "Epoch 00004: val_acc did not improve from 0.96601\n",
      "Epoch 5/6\n",
      "450/450 [==============================] - 24s 53ms/step - loss: 0.1753 - acc: 0.9453 - val_loss: 0.0882 - val_acc: 0.9670\n",
      "\n",
      "Epoch 00005: val_acc improved from 0.96601 to 0.96704, saving model to pokemonWeights.hdf5\n",
      "Epoch 6/6\n",
      "450/450 [==============================] - 24s 53ms/step - loss: 0.1842 - acc: 0.9438 - val_loss: 0.1046 - val_acc: 0.9650\n",
      "\n",
      "Epoch 00006: val_acc did not improve from 0.96704\n",
      "\n",
      "\n",
      "Evaluationg model\n",
      "971/971 [==============================] - 1s 1ms/step\n",
      "Average accuracy of model on the dev set =  0.9581063934143587\n",
      "Training on fold 10/10.............................................\n",
      "\n",
      "\n",
      "Compiling Model.\n",
      "\n",
      "\n",
      "setting  up checkpoints.\n",
      "\n",
      "\n",
      "Loading Images.\n",
      "Epoch 1/6\n",
      "450/450 [==============================] - 26s 57ms/step - loss: 0.1681 - acc: 0.9479 - val_loss: 0.1210 - val_acc: 0.9619\n",
      "\n",
      "Epoch 00001: val_acc improved from -inf to 0.96189, saving model to pokemonWeights.hdf5\n",
      "Epoch 2/6\n",
      "450/450 [==============================] - 24s 53ms/step - loss: 0.1786 - acc: 0.9453 - val_loss: 0.1156 - val_acc: 0.9629\n",
      "\n",
      "Epoch 00002: val_acc improved from 0.96189 to 0.96292, saving model to pokemonWeights.hdf5\n",
      "Epoch 3/6\n",
      "450/450 [==============================] - 24s 53ms/step - loss: 0.1926 - acc: 0.9422 - val_loss: 0.0902 - val_acc: 0.9650\n",
      "\n",
      "Epoch 00003: val_acc improved from 0.96292 to 0.96498, saving model to pokemonWeights.hdf5\n",
      "Epoch 4/6\n",
      "450/450 [==============================] - 24s 53ms/step - loss: 0.1690 - acc: 0.9489 - val_loss: 0.1005 - val_acc: 0.9640\n",
      "\n",
      "Epoch 00004: val_acc did not improve from 0.96498\n",
      "Epoch 5/6\n",
      "450/450 [==============================] - 24s 53ms/step - loss: 0.1738 - acc: 0.9468 - val_loss: 0.0942 - val_acc: 0.9660\n",
      "\n",
      "Epoch 00005: val_acc improved from 0.96498 to 0.96601, saving model to pokemonWeights.hdf5\n",
      "Epoch 6/6\n",
      "450/450 [==============================] - 24s 53ms/step - loss: 0.1671 - acc: 0.9490 - val_loss: 0.1045 - val_acc: 0.9598\n",
      "\n",
      "Epoch 00006: val_acc did not improve from 0.96601\n",
      "\n",
      "\n",
      "Evaluationg model\n",
      "971/971 [==============================] - 1s 1ms/step\n",
      "Average accuracy of model on the dev set =  0.9582792762457368\n",
      "\n",
      "\n",
      "Saving Model.\n"
     ]
    }
   ],
   "source": [
    "from tensorflow.keras.layers import LSTM\n",
    "\n",
    "\n",
    "VGG16_model = VGG16(weights='imagenet', include_top=False, input_tensor=None, input_shape=(100,100,3), pooling=None, classes=15)\n",
    "\n",
    "\n",
    "# Freeze all the layers which I don't want to retrain\n",
    "for layer in VGG16_model.layers[:10]:\n",
    "    layer.trainable = False\n",
    "\n",
    "#Adding custom Layers\n",
    "#Adding custom Layers\n",
    "x = VGG16_model.output\n",
    "x = Flatten()(x)\n",
    "x = Dense(1024, activation=\"relu\")(x)\n",
    "x = Dropout(0.8)(x)\n",
    "x = Dense(1024, activation=\"relu\")(x)\n",
    "x = Dropout(0.8)(x)\n",
    "#output layer with 62 classes as possible predictions\n",
    "predictions = Dense(15, activation=\"softmax\")(x)\n",
    "\n",
    "\n",
    "skf = StratifiedKFold(n_splits=10, random_state=12)\n",
    "avg_loss = []\n",
    "avg_acc = []\n",
    "# Loop through the indices the split() method returns\n",
    "for index, (train_index, test_index) in enumerate(skf.split(pokemon_files, pokemon_labels)):\n",
    "    print(\"Training on fold \" + str(index + 1) + \"/10.............................................\")\n",
    "    # Generate batches from indices\n",
    "    xtrain, xtest = pokemon_files[train_index], pokemon_files[test_index]\n",
    "    # use one-hot vectors as labels\n",
    "    ytrain, ytest = pokemon_targets[train_index], pokemon_targets[test_index]\n",
    "\n",
    "    # Clear the model, and create it\n",
    "    model = None\n",
    "    model = Model(inputs=VGG16_model.input, outputs=predictions)\n",
    "\n",
    "    \n",
    "    #load best weights so far\n",
    "    model.load_weights(\"pokemonWeights.hdf5\")  #for VGG16\n",
    "\n",
    "\n",
    "    print('\\n\\nCompiling Model.')\n",
    "    # if your targets are one-hot encoded, use categorical_crossentropy, but if your targets are integers, use sparse_categorical_crossentropy\n",
    "    model.compile(loss=\"categorical_crossentropy\", optimizer=optimizers.SGD(lr=0.0001, momentum=0.7),\n",
    "                  metrics=['accuracy'])\n",
    "   \n",
    "\n",
    "    print('\\n\\nsetting  up checkpoints.')\n",
    "    #create checkpoint after each epoch in the fitting process\n",
    "    filepath = \"pokemonWeights.hdf5\"\n",
    "    checkpoint = ModelCheckpoint(filepath, monitor='val_acc', verbose=1, save_best_only=True, save_weights_only=False,\n",
    "                                mode='max', period=1)\n",
    "    callbacks_list = [checkpoint]\n",
    "\n",
    "    print('\\n\\nLoading Images.')\n",
    "    # open all the images from the xtrain and ytrain paths, crop and normalize them\n",
    "    xtrain_imagelist = pathlist2imagelist(xtrain)\n",
    "    xtest_imagelist = pathlist2imagelist(xtest)\n",
    "\n",
    "    # fit the model - only a few epochs, to save time\n",
    "\n",
    "    # fit the model with image augmentation\n",
    "    datagen = ImageDataGenerator(rotation_range=20, width_shift_range=0.2, height_shift_range=0.2, horizontal_flip=True)\n",
    "    # fit it on the data - this will calculate any statistics required to actually perform the transforms on the image data.\n",
    "    datagen.fit(xtrain_imagelist)\n",
    "    # steps_per_epoch * batch_size images will be loaded per each epoch\n",
    "    model.fit_generator(datagen.flow(xtrain_imagelist, ytrain, batch_size=16), steps_per_epoch=450,\n",
    "                        validation_data=(xtest_imagelist, ytest), epochs=6, callbacks=callbacks_list, verbose=1)\n",
    "\n",
    "    print('\\n\\nEvaluationg model')\n",
    "    # evaluate and store the accuracy\n",
    "    loss, accuracy = model.evaluate(xtest_imagelist, ytest, verbose=1)\n",
    "    avg_loss.append(loss)\n",
    "    avg_acc.append(accuracy)\n",
    "\n",
    "    # cross validation score-\n",
    "    print(\"Average accuracy of model on the dev set = \", np.mean(avg_acc))\n",
    "\n",
    "print('\\n\\nSaving Model.')\n",
    "model.save('pokemonWeights.hdf5')\n"
   ]
  },
  {
   "cell_type": "markdown",
   "metadata": {},
   "source": [
    "# Results for Training \n",
    "\n",
    "<b>After running the above code twice for a total of 360 epochs with 450 steps per epoch the following results were achieved.</b>\n",
    "\n",
    "\n",
    "<b>After 300 epochs the below results were avheived</b><br>\n",
    "\n",
    "Loss: 0.3670 <br>\n",
    "Accuracy: 0.8771 <br>\n",
    "Val_Loss: 0.3410 <br>\n",
    "Val_Accuracy: 0.9063 <br>\n",
    "    \n",
    "<b>After running the model for an addition 60 epochs the below results were avheived (Total: 360 epochs)</b><br>\n",
    "    \n",
    "Loss: 0.2614 <br>\n",
    "Accuracy: 0.9171 <br>\n",
    "Val_Loss: 0.1916 <br>\n",
    "Val_Accuracy: 0.9341 <br>\n",
    "\n",
    "<b>After running the model for an addition 60 epochs the below results were avheived (Total: 420 epochs)</b><br>\n",
    "    \n",
    "Loss: 0.1671 <br>\n",
    "Accuracy: 0.9490 <br>\n",
    "Val_Loss: 0.1104 <br>\n",
    "Val_Accuracy: 0.9598 <br>"
   ]
  },
  {
   "cell_type": "code",
   "execution_count": 11,
   "metadata": {
    "scrolled": true
   },
   "outputs": [
    {
     "data": {
      "image/png": "[encoded data removed]",
      "text/plain": [
       "<Figure size 432x288 with 1 Axes>"
      ]
     },
     "metadata": {
      "needs_background": "light"
     },
     "output_type": "display_data"
    }
   ],
   "source": [
    "plt.plot(avg_acc)\n",
    "plt.ylabel('model accuaracy')\n",
    "plt.show()"
   ]
  },
  {
   "cell_type": "markdown",
   "metadata": {},
   "source": [
    "# The above graph shows the plot of the accuracy whilst training the model after 300 epochs with 450 steps per epoch"
   ]
  },
  {
   "cell_type": "code",
   "execution_count": 24,
   "metadata": {},
   "outputs": [
    {
     "data": {
      "image/png": "[encoded data removed]",
      "text/plain": [
       "<Figure size 432x288 with 1 Axes>"
      ]
     },
     "metadata": {
      "needs_background": "light"
     },
     "output_type": "display_data"
    }
   ],
   "source": [
    "plt.plot(avg_acc)\n",
    "plt.ylabel('model accuaracy')\n",
    "plt.show()"
   ]
  },
  {
   "cell_type": "markdown",
   "metadata": {},
   "source": [
    "# The above graph shows the plot of the accuracy after loading the saved model and training the model for a futher 60 epochs with 450 steps per epoch (Total epochs: 360)"
   ]
  },
  {
   "cell_type": "code",
   "execution_count": 11,
   "metadata": {},
   "outputs": [
    {
     "data": {
      "image/png": "[encoded data removed]",
      "text/plain": [
       "<Figure size 432x288 with 1 Axes>"
      ]
     },
     "metadata": {
      "needs_background": "light"
     },
     "output_type": "display_data"
    }
   ],
   "source": [
    "plt.plot(avg_acc)\n",
    "plt.ylabel('model accuaracy')\n",
    "plt.show()"
   ]
  },
  {
   "cell_type": "markdown",
   "metadata": {},
   "source": [
    "# The above graph shows the plot of the accuracy after loading the saved model and training the model for a futher 60 epochs with 450 steps per epoch (Total epochs: 420)"
   ]
  },
  {
   "cell_type": "code",
   "execution_count": 23,
   "metadata": {},
   "outputs": [
    {
     "data": {
      "image/png": "[encoded data removed]",
      "text/plain": [
       "<Figure size 432x288 with 1 Axes>"
      ]
     },
     "metadata": {
      "needs_background": "light"
     },
     "output_type": "display_data"
    }
   ],
   "source": [
    "plt.plot(avg_loss)\n",
    "plt.ylabel('model loss')\n",
    "plt.show()"
   ]
  },
  {
   "cell_type": "markdown",
   "metadata": {},
   "source": [
    "# The above graph showing the plot of the loss whilst training the model "
   ]
  },
  {
   "cell_type": "code",
   "execution_count": 90,
   "metadata": {},
   "outputs": [],
   "source": [
    "choices = {\n",
    "    0: \"Bug\",\n",
    "    1: \"Dragon\",\n",
    "    2: \"Electric\",\n",
    "    3: \"Fairy\",\n",
    "    4: \"Fighting\",\n",
    "    5: \"Fire\",\n",
    "    6: \"Ghost\",\n",
    "    7: \"Grass\",\n",
    "    8: \"Ground\",\n",
    "    9: \"Ice\",\n",
    "    10: \"Normal\",\n",
    "    11: \"Poison\",\n",
    "    12: \"Psychic\",\n",
    "    13: \"Rock\",\n",
    "    14: \"Water\",\n",
    "}\n",
    "\n",
    "def getlabel(classnum):\n",
    "    return choices.get(classnum, 'This is a unknown class')"
   ]
  },
  {
   "cell_type": "markdown",
   "metadata": {},
   "source": [
    "<B>The above code maps the pokemon type to the class number it is classified as<b>\n",
    "    "
   ]
  },
  {
   "cell_type": "code",
   "execution_count": 91,
   "metadata": {},
   "outputs": [],
   "source": [
    "from keras.applications.densenet import preprocess_input\n",
    "from keras_preprocessing.image import img_to_array\n",
    "from keras.models import load_model\n",
    "\n",
    "def getPrediction(path):\n",
    "    img = path\n",
    "    model = load_model('pokemonWeights.hdf5')\n",
    "    img = resize_and_crop(img)\n",
    "    img = img_to_array(img)\n",
    "    img = np.expand_dims(img, axis=0)\n",
    "    img = preprocess_input(img)\n",
    "    predicted_classes = model.predict(img)\n",
    "    predicted_class = predicted_classes.argmax(axis=-1)\n",
    "    print('predicted class for ', path, 'is :' , getlabel(predicted_class[0]))"
   ]
  },
  {
   "cell_type": "markdown",
   "metadata": {},
   "source": [
    "<b>The code above defines a method that takes a path to an image as a parameter. It then returns the predicted class for the image supplied<b>"
   ]
  },
  {
   "cell_type": "code",
   "execution_count": 92,
   "metadata": {},
   "outputs": [
    {
     "name": "stdout",
     "output_type": "stream",
     "text": [
      "predicted class for  TestImages/Nidoran.jpg is : Poison\n",
      "######### should be: Poison\n",
      "\n",
      "predicted class for  TestImages/pikachu.jpg is : Electric\n",
      "######### should be: Electric\n",
      "\n",
      "predicted class for  TestImages/Charizard.jpg is : Fire\n",
      "######### should be: Fire\n",
      "\n",
      "predicted class for  TestImages/Zapdos.jpg is : Electric\n",
      "######### should be: Electric\n",
      "\n",
      "predicted class for  TestImages/Smog.jpg is : Poison\n",
      "######### should be: Poison\n",
      "\n",
      "predicted class for  TestImages/Download.jpg is : Water\n",
      "######### should be: Water\n",
      "\n",
      "predicted class for  TestImages/Dratini.jpg is : Dragon\n",
      "######### Should be: Dragon\n",
      "\n",
      "predicted class for  TestImages/Weedle.jpg is : Bug\n",
      "######### should be: bug\n",
      "\n",
      "predicted class for  TestImages/Icenew.jpg is : Water\n",
      "######### should be: Ice\n"
     ]
    }
   ],
   "source": [
    "getPrediction('TestImages/Nidoran.jpg')\n",
    "print('######### should be: Poison\\n')\n",
    "getPrediction('TestImages/pikachu.jpg')\n",
    "print('######### should be: Electric\\n')\n",
    "getPrediction('TestImages/Charizard.jpg')\n",
    "print('######### should be: Fire\\n')\n",
    "getPrediction('TestImages/Zapdos.jpg')\n",
    "print('######### should be: Electric\\n')\n",
    "getPrediction('TestImages/Smog.jpg')\n",
    "print('######### should be: Poison\\n')\n",
    "getPrediction('TestImages/Download.jpg')\n",
    "print('######### should be: Water\\n')\n",
    "getPrediction('TestImages/Dratini.jpg')\n",
    "print('######### Should be: Dragon\\n')\n",
    "getPrediction('TestImages/Weedle.jpg')\n",
    "print('######### should be: bug\\n')\n",
    "getPrediction('TestImages/Icenew.jpg')\n",
    "print('######### should be: Ice')"
   ]
  }
 ],
 "metadata": {
  "kernelspec": {
   "display_name": "Python 3",
   "language": "python",
   "name": "python3"
  },
  "language_info": {
   "codemirror_mode": {
    "name": "ipython",
    "version": 3
   },
   "file_extension": ".py",
   "mimetype": "text/x-python",
   "name": "python",
   "nbconvert_exporter": "python",
   "pygments_lexer": "ipython3",
   "version": "3.6.8"
  }
 },
 "nbformat": 4,
 "nbformat_minor": 2
}
